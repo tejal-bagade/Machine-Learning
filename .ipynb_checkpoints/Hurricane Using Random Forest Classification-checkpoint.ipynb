{
 "cells": [
  {
   "cell_type": "code",
   "execution_count": 55,
   "metadata": {},
   "outputs": [
    {
     "name": "stderr",
     "output_type": "stream",
     "text": [
      "c:\\python37\\lib\\site-packages\\pandas\\core\\frame.py:3940: SettingWithCopyWarning: \n",
      "A value is trying to be set on a copy of a slice from a DataFrame\n",
      "\n",
      "See the caveats in the documentation: http://pandas.pydata.org/pandas-docs/stable/indexing.html#indexing-view-versus-copy\n",
      "  errors=errors)\n"
     ]
    },
    {
     "name": "stdout",
     "output_type": "stream",
     "text": [
      "      Actual Predicted\n",
      "11547     TD        TD\n",
      "17614     HU        HU\n",
      "16355     HU        HU\n",
      "5767      TD        TD\n",
      "19461     TS        TS\n"
     ]
    },
    {
     "name": "stderr",
     "output_type": "stream",
     "text": [
      "c:\\python37\\lib\\site-packages\\pandas\\core\\frame.py:3940: SettingWithCopyWarning: \n",
      "A value is trying to be set on a copy of a slice from a DataFrame\n",
      "\n",
      "See the caveats in the documentation: http://pandas.pydata.org/pandas-docs/stable/indexing.html#indexing-view-versus-copy\n",
      "  errors=errors)\n"
     ]
    },
    {
     "name": "stdout",
     "output_type": "stream",
     "text": [
      "      Actual Predicted\n",
      "14629     TS        TS\n",
      "7411      HU        HU\n",
      "543       HU        HU\n",
      "2190      TS        TS\n",
      "15383     TD        TD\n",
      "Random Forest Classifier 95.60061208875287\n",
      "Decision Tree Classifier 95.52410099464423\n"
     ]
    },
    {
     "name": "stderr",
     "output_type": "stream",
     "text": [
      "c:\\python37\\lib\\site-packages\\pandas\\core\\frame.py:3940: SettingWithCopyWarning: \n",
      "A value is trying to be set on a copy of a slice from a DataFrame\n",
      "\n",
      "See the caveats in the documentation: http://pandas.pydata.org/pandas-docs/stable/indexing.html#indexing-view-versus-copy\n",
      "  errors=errors)\n"
     ]
    },
    {
     "name": "stdout",
     "output_type": "stream",
     "text": [
      "       Actual  Predicted\n",
      "2923       11         11\n",
      "18863       3          3\n",
      "24669      10         10\n",
      "6128        3          3\n",
      "9751        3          3\n"
     ]
    },
    {
     "name": "stderr",
     "output_type": "stream",
     "text": [
      "c:\\python37\\lib\\site-packages\\pandas\\core\\frame.py:3940: SettingWithCopyWarning: \n",
      "A value is trying to be set on a copy of a slice from a DataFrame\n",
      "\n",
      "See the caveats in the documentation: http://pandas.pydata.org/pandas-docs/stable/indexing.html#indexing-view-versus-copy\n",
      "  errors=errors)\n"
     ]
    },
    {
     "name": "stdout",
     "output_type": "stream",
     "text": [
      "       Actual  Predicted\n",
      "19047      10         10\n",
      "11280      10         10\n",
      "21303       5          5\n",
      "11553      11         11\n",
      "3219       11         11\n",
      "Random Forest Classifier with categorical data 95.4858454475899\n",
      "Decision Tree Classifier with categorical data 95.2371843917368\n"
     ]
    },
    {
     "name": "stderr",
     "output_type": "stream",
     "text": [
      "c:\\python37\\lib\\site-packages\\pandas\\core\\frame.py:3940: SettingWithCopyWarning: \n",
      "A value is trying to be set on a copy of a slice from a DataFrame\n",
      "\n",
      "See the caveats in the documentation: http://pandas.pydata.org/pandas-docs/stable/indexing.html#indexing-view-versus-copy\n",
      "  errors=errors)\n"
     ]
    },
    {
     "name": "stdout",
     "output_type": "stream",
     "text": [
      "      Actual Predicted\n",
      "29397     TS        TS\n",
      "4576      TS        TS\n",
      "11368     TD        TD\n",
      "30676     TD        TD\n",
      "19336     TD        TD\n"
     ]
    },
    {
     "name": "stderr",
     "output_type": "stream",
     "text": [
      "c:\\python37\\lib\\site-packages\\pandas\\core\\frame.py:3940: SettingWithCopyWarning: \n",
      "A value is trying to be set on a copy of a slice from a DataFrame\n",
      "\n",
      "See the caveats in the documentation: http://pandas.pydata.org/pandas-docs/stable/indexing.html#indexing-view-versus-copy\n",
      "  errors=errors)\n"
     ]
    },
    {
     "name": "stdout",
     "output_type": "stream",
     "text": [
      "      Actual Predicted\n",
      "26051     HU        HU\n",
      "47859     HU        HU\n",
      "29784     TD        TD\n",
      "10611     EX        TS\n",
      "11509     TS        TS\n",
      "Random Forest Classifier 88.14784645148151\n",
      "Decision Tree Classifier 87.59800427655024\n"
     ]
    },
    {
     "name": "stderr",
     "output_type": "stream",
     "text": [
      "c:\\python37\\lib\\site-packages\\pandas\\core\\frame.py:3940: SettingWithCopyWarning: \n",
      "A value is trying to be set on a copy of a slice from a DataFrame\n",
      "\n",
      "See the caveats in the documentation: http://pandas.pydata.org/pandas-docs/stable/indexing.html#indexing-view-versus-copy\n",
      "  errors=errors)\n"
     ]
    },
    {
     "name": "stdout",
     "output_type": "stream",
     "text": [
      "       Actual  Predicted\n",
      "7384        2          2\n",
      "6449        1          7\n",
      "34957       6          6\n",
      "20667       6          6\n",
      "31483       6          6\n"
     ]
    },
    {
     "name": "stderr",
     "output_type": "stream",
     "text": [
      "c:\\python37\\lib\\site-packages\\pandas\\core\\frame.py:3940: SettingWithCopyWarning: \n",
      "A value is trying to be set on a copy of a slice from a DataFrame\n",
      "\n",
      "See the caveats in the documentation: http://pandas.pydata.org/pandas-docs/stable/indexing.html#indexing-view-versus-copy\n",
      "  errors=errors)\n"
     ]
    },
    {
     "name": "stdout",
     "output_type": "stream",
     "text": [
      "       Actual  Predicted\n",
      "7699        2          2\n",
      "47332       3          6\n",
      "39495       2          2\n",
      "9772        2          2\n",
      "29375       2          2\n",
      "Random Forest Classifier with categorical data 88.23948681397007\n",
      "Decision Tree Classifier with categorical data 87.86274310151715\n"
     ]
    }
   ],
   "source": [
    "import numpy as np\n",
    "import pandas as pd\n",
    "import random\n",
    "import matplotlib.pyplot as plt\n",
    "import seaborn as sns\n",
    "from sklearn import linear_model as lm\n",
    "from sklearn import metrics as m\n",
    "from sklearn.model_selection import train_test_split\n",
    "from sklearn import tree\n",
    "from sklearn.ensemble import RandomForestClassifier\n",
    "\n",
    "def convert_to_dataframe(file):\n",
    "    return pd.read_csv(file)\n",
    "\n",
    "def get_features(data):\n",
    "    random.seed()\n",
    "    pred = data[:]\n",
    "    pred.drop(['Status'],axis=1,inplace=True)\n",
    "    pred.drop(['Event'],axis=1,inplace=True)    \n",
    "    pred.drop(['Latitude'],axis=1,inplace=True)\n",
    "    pred.drop(['Longitude'],axis=1,inplace=True)\n",
    "    pred.drop(['ID'],axis=1,inplace=True)\n",
    "    pred.drop(['Name'],axis=1,inplace=True)\n",
    "    pred.drop(['Time'],axis=1,inplace=True)\n",
    "    pred.drop(['Date'],axis=1,inplace=True)\n",
    "    return pred.columns\n",
    "\n",
    "def randomforest(data):\n",
    "    x=data[get_features(data)]\n",
    "    y=data['Status']\n",
    "    x_train, x_test,y_train, y_test = train_test_split(x,y, test_size=0.2)\n",
    "    rfc = RandomForestClassifier(n_estimators=120)\n",
    "    rfc.fit(x_train,y_train)\n",
    "    hurricane_prediction = rfc.predict(x_test)\n",
    "    # Make predictions using the testing set\n",
    "    final = pd.DataFrame({'Actual': y_test, 'Predicted': hurricane_prediction})\n",
    "    print(final.head(5))\n",
    "    return m.accuracy_score(hurricane_prediction,y_test)*100\n",
    "      \n",
    "def decisiontree(data):\n",
    "    x=data[get_features(data)]\n",
    "    y=data['Status']\n",
    "    x_train, x_test,y_train, y_test = train_test_split(x,y, test_size=0.2)\n",
    "    dtc = tree.DecisionTreeClassifier()\n",
    "    dtc.fit(x_train,y_train)\n",
    "    y_predict = dtc.predict(x_test)\n",
    "    # Make predictions using the testing set\n",
    "    final = pd.DataFrame({'Actual': y_test, 'Predicted': y_predict})\n",
    "    print(final.head(5))\n",
    "    return m.accuracy_score(y_predict,y_test)*100\n",
    "\n",
    "if __name__=='__main__':\n",
    "    file1 = convert_to_dataframe('pacific.csv')\n",
    "    resf = randomforest(file1)\n",
    "    res= decisiontree(file1)\n",
    "    print ( \"Random Forest Classifier\",resf)\n",
    "    print ( \"Decision Tree Classifier\",res)\n",
    "    file1.Status = pd.Categorical(file1.Status,ordered=True)\n",
    "    file1.Status = file1.Status.cat.codes\n",
    "    resf = randomforest(file1)\n",
    "    res= decisiontree(file1)\n",
    "    print ( \"Random Forest Classifier with categorical data\",resf)\n",
    "    print ( \"Decision Tree Classifier with categorical data\",res)\n",
    "    file2 = convert_to_dataframe('atlantic.csv')\n",
    "    resf = randomforest(file2)\n",
    "    res = decisiontree(file2)\n",
    "    print ( \"Random Forest Classifier\",resf)\n",
    "    print ( \"Decision Tree Classifier\",res)\n",
    "    # Pre-Processing\n",
    "    file2 = convert_to_dataframe('atlantic.csv')\n",
    "    file2.Status = pd.Categorical(file2.Status,ordered=True)\n",
    "    file2.Status = file2.Status.cat.codes\n",
    "    resf = randomforest(file2)\n",
    "    res= decisiontree(file2)\n",
    "    print ( \"Random Forest Classifier with categorical data\",resf)\n",
    "    print ( \"Decision Tree Classifier with categorical data\",res)   "
   ]
  }
 ],
 "metadata": {
  "kernelspec": {
   "display_name": "Python 3",
   "language": "python",
   "name": "python3"
  },
  "language_info": {
   "codemirror_mode": {
    "name": "ipython",
    "version": 3
   },
   "file_extension": ".py",
   "mimetype": "text/x-python",
   "name": "python",
   "nbconvert_exporter": "python",
   "pygments_lexer": "ipython3",
   "version": "3.7.2"
  }
 },
 "nbformat": 4,
 "nbformat_minor": 2
}
