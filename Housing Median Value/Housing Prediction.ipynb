{
 "cells": [
  {
   "cell_type": "code",
   "execution_count": 87,
   "metadata": {},
   "outputs": [],
   "source": [
    "import numpy as np\n",
    "import pandas as pd\n",
    "import matplotlib as plt\n",
    "import seaborn as sns\n",
    "from sklearn import linear_model as lm\n",
    "from sklearn import metrics as m\n",
    "from sklearn.model_selection import train_test_split\n",
    "\"\"\"\n",
    "CRIM   Per Capita Crime Rate By Town\n",
    "ZN     Proportion of Residential land zoned for lots over 25,000 sq ft\n",
    "INDUS  Proportion of non retail business acres per town\n",
    "CHAS   Charles River Dummy Variable (1 if tract bounds river else 0)\n",
    "NOX    Nitric Oxide concentration (parts per 10 million)\n",
    "RM     Average umber of room dwelling\n",
    "AGE    Proportion of owner occupied units built prior 1940\n",
    "DIS    Weighted distance to five Boston centers\n",
    "RAD    Index of accessibility to radial highway\n",
    "TAX    Full value property tax rate per $10,000\n",
    "PTRATIO Pupil teacher ration by town\n",
    "LSTAT   Lower status of population\n",
    "MEDV    Median Value of owner occupied homes in $1000's\n",
    "\"\"\"\n",
    "\n",
    "# Data Read\n",
    "house = pd.read_csv('HousingData.csv')\n",
    "house = house.dropna(how=\"any\")"
   ]
  },
  {
   "cell_type": "code",
   "execution_count": 88,
   "metadata": {},
   "outputs": [
    {
     "data": {
      "image/png": "[encoded data removed]",
      "text/plain": [
       "<Figure size 432x288 with 2 Axes>"
      ]
     },
     "metadata": {
      "needs_background": "light"
     },
     "output_type": "display_data"
    }
   ],
   "source": [
    "names = []\n",
    "# Correlation\n",
    "correlation = house.corr()\n",
    "correlation_map =sns.heatmap(correlation, square=True, cmap=\"YlGnBu\")"
   ]
  },
  {
   "cell_type": "code",
   "execution_count": 89,
   "metadata": {},
   "outputs": [
    {
     "data": {
      "text/html": [
       "<div>\n",
       "<style scoped>\n",
       "    .dataframe tbody tr th:only-of-type {\n",
       "        vertical-align: middle;\n",
       "    }\n",
       "\n",
       "    .dataframe tbody tr th {\n",
       "        vertical-align: top;\n",
       "    }\n",
       "\n",
       "    .dataframe thead th {\n",
       "        text-align: right;\n",
       "    }\n",
       "</style>\n",
       "<table border=\"1\" class=\"dataframe\">\n",
       "  <thead>\n",
       "    <tr style=\"text-align: right;\">\n",
       "      <th></th>\n",
       "      <th>Actual</th>\n",
       "      <th>Predicted</th>\n",
       "    </tr>\n",
       "  </thead>\n",
       "  <tbody>\n",
       "    <tr>\n",
       "      <th>331</th>\n",
       "      <td>17.1</td>\n",
       "      <td>20.785378</td>\n",
       "    </tr>\n",
       "    <tr>\n",
       "      <th>300</th>\n",
       "      <td>24.8</td>\n",
       "      <td>30.894202</td>\n",
       "    </tr>\n",
       "    <tr>\n",
       "      <th>134</th>\n",
       "      <td>15.6</td>\n",
       "      <td>13.100962</td>\n",
       "    </tr>\n",
       "    <tr>\n",
       "      <th>454</th>\n",
       "      <td>14.9</td>\n",
       "      <td>14.852798</td>\n",
       "    </tr>\n",
       "    <tr>\n",
       "      <th>273</th>\n",
       "      <td>35.2</td>\n",
       "      <td>35.575282</td>\n",
       "    </tr>\n",
       "  </tbody>\n",
       "</table>\n",
       "</div>"
      ],
      "text/plain": [
       "     Actual  Predicted\n",
       "331    17.1  20.785378\n",
       "300    24.8  30.894202\n",
       "134    15.6  13.100962\n",
       "454    14.9  14.852798\n",
       "273    35.2  35.575282"
      ]
     },
     "execution_count": 89,
     "metadata": {},
     "output_type": "execute_result"
    }
   ],
   "source": [
    "# Data Split for train and test\n",
    "x=house.iloc[:,0:13]\n",
    "y=house[\"MEDV\"]\n",
    "x_train, x_test,y_train, y_test = train_test_split(x,y, test_size=0.2)\n",
    "\n",
    "# Create linear regression object\n",
    "linear_reg = lm.LinearRegression()\n",
    "\n",
    "# Train the model using the training sets\n",
    "linear_reg.fit(x_train, y_train)\n",
    "\n",
    "# Make predictions using the testing set\n",
    "y_pred = linear_reg.predict(x_test)\n",
    "final = pd.DataFrame({'Actual': y_test, 'Predicted': y_pred})\n",
    "final.head()"
   ]
  },
  {
   "cell_type": "code",
   "execution_count": 90,
   "metadata": {},
   "outputs": [
    {
     "name": "stdout",
     "output_type": "stream",
     "text": [
      "Coefficients: \n",
      " [-9.80102509e-02  3.70107489e-02  2.24505449e-02  2.50911462e+00\n",
      " -1.93467107e+01  4.17458101e+00 -1.17470052e-02 -1.43463385e+00\n",
      "  2.63030966e-01 -1.15967534e-02 -1.05077109e+00  1.00379537e-02\n",
      " -4.13118930e-01]\n",
      "Mean squared error: 19.13\n",
      "Variance score: 0.75\n"
     ]
    }
   ],
   "source": [
    "# The coefficients\n",
    "print('Coefficients: \\n', linear_reg.coef_)\n",
    "# The mean squared error\n",
    "print(\"Mean squared error: %.2f\"% m.mean_squared_error(y_test, y_pred))\n",
    "# Explained variance score: 1 is perfect prediction\n",
    "print('Variance score: %.2f' % m.r2_score(y_test, y_pred))"
   ]
  },
  {
   "cell_type": "code",
   "execution_count": 91,
   "metadata": {},
   "outputs": [
    {
     "data": {
      "image/png": "[encoded data removed]",
      "text/plain": [
       "<Figure size 864x576 with 1 Axes>"
      ]
     },
     "metadata": {
      "needs_background": "light"
     },
     "output_type": "display_data"
    }
   ],
   "source": [
    "final[:20].plot(kind='bar',figsize=(12,8))\n",
    "plt.pyplot.grid(which='major', linestyle='-', linewidth='0.5', color='blue')\n",
    "plt.pyplot.grid(which='minor', linestyle=':', linewidth='0.5', color='black')\n",
    "plt.pyplot.show()"
   ]
  },
  {
   "cell_type": "code",
   "execution_count": 95,
   "metadata": {},
   "outputs": [
    {
     "data": {
      "text/plain": [
       "<matplotlib.axes._subplots.AxesSubplot at 0x664e470>"
      ]
     },
     "execution_count": 95,
     "metadata": {},
     "output_type": "execute_result"
    },
    {
     "data": {
      "image/png": "[encoded data removed]",
      "text/plain": [
       "<Figure size 432x288 with 1 Axes>"
      ]
     },
     "metadata": {
      "needs_background": "light"
     },
     "output_type": "display_data"
    }
   ],
   "source": [
    "final.plot(x ='Actual', y='Predicted', kind = 'scatter')"
   ]
  }
 ],
 "metadata": {
  "kernelspec": {
   "display_name": "Python 3",
   "language": "python",
   "name": "python3"
  },
  "language_info": {
   "codemirror_mode": {
    "name": "ipython",
    "version": 3
   },
   "file_extension": ".py",
   "mimetype": "text/x-python",
   "name": "python",
   "nbconvert_exporter": "python",
   "pygments_lexer": "ipython3",
   "version": "3.7.2"
  }
 },
 "nbformat": 4,
 "nbformat_minor": 2
}
