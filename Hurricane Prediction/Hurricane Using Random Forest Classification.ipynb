{
 "cells": [
  {
   "cell_type": "code",
   "execution_count": 56,
   "metadata": {},
   "outputs": [
    {
     "name": "stderr",
     "output_type": "stream",
     "text": [
      "c:\\python37\\lib\\site-packages\\pandas\\core\\frame.py:3940: SettingWithCopyWarning: \n",
      "A value is trying to be set on a copy of a slice from a DataFrame\n",
      "\n",
      "See the caveats in the documentation: http://pandas.pydata.org/pandas-docs/stable/indexing.html#indexing-view-versus-copy\n",
      "  errors=errors)\n"
     ]
    },
    {
     "name": "stdout",
     "output_type": "stream",
     "text": [
      "      Actual Predicted\n",
      "15598     HU        HU\n",
      "8102      TD        TD\n",
      "12017     TD        TD\n",
      "19306     TD        TD\n",
      "17771     TS        TS\n"
     ]
    },
    {
     "name": "stderr",
     "output_type": "stream",
     "text": [
      "c:\\python37\\lib\\site-packages\\pandas\\core\\frame.py:3940: SettingWithCopyWarning: \n",
      "A value is trying to be set on a copy of a slice from a DataFrame\n",
      "\n",
      "See the caveats in the documentation: http://pandas.pydata.org/pandas-docs/stable/indexing.html#indexing-view-versus-copy\n",
      "  errors=errors)\n"
     ]
    },
    {
     "name": "stdout",
     "output_type": "stream",
     "text": [
      "      Actual Predicted\n",
      "21013     TD        LO\n",
      "3495      TS        TS\n",
      "22356     TS        TS\n",
      "22317     TS        TS\n",
      "15361     HU        HU\n",
      "Random Forest Classifier 95.58148431522571\n",
      "Decision Tree Classifier 95.52410099464423\n"
     ]
    },
    {
     "name": "stderr",
     "output_type": "stream",
     "text": [
      "c:\\python37\\lib\\site-packages\\pandas\\core\\frame.py:3940: SettingWithCopyWarning: \n",
      "A value is trying to be set on a copy of a slice from a DataFrame\n",
      "\n",
      "See the caveats in the documentation: http://pandas.pydata.org/pandas-docs/stable/indexing.html#indexing-view-versus-copy\n",
      "  errors=errors)\n"
     ]
    },
    {
     "name": "stdout",
     "output_type": "stream",
     "text": [
      "       Actual  Predicted\n",
      "7067        3          3\n",
      "25655       5          5\n",
      "13166      11         11\n",
      "4032       10         10\n",
      "11233       3          3\n"
     ]
    },
    {
     "name": "stderr",
     "output_type": "stream",
     "text": [
      "c:\\python37\\lib\\site-packages\\pandas\\core\\frame.py:3940: SettingWithCopyWarning: \n",
      "A value is trying to be set on a copy of a slice from a DataFrame\n",
      "\n",
      "See the caveats in the documentation: http://pandas.pydata.org/pandas-docs/stable/indexing.html#indexing-view-versus-copy\n",
      "  errors=errors)\n"
     ]
    },
    {
     "name": "stdout",
     "output_type": "stream",
     "text": [
      "       Actual  Predicted\n",
      "16948      10         10\n",
      "23845      11         11\n",
      "7021        3          3\n",
      "20650      11         11\n",
      "21204       3          3\n",
      "Random Forest Classifier with categorical data 95.65799540933435\n",
      "Decision Tree Classifier with categorical data 95.63886763580719\n"
     ]
    },
    {
     "name": "stderr",
     "output_type": "stream",
     "text": [
      "c:\\python37\\lib\\site-packages\\pandas\\core\\frame.py:3940: SettingWithCopyWarning: \n",
      "A value is trying to be set on a copy of a slice from a DataFrame\n",
      "\n",
      "See the caveats in the documentation: http://pandas.pydata.org/pandas-docs/stable/indexing.html#indexing-view-versus-copy\n",
      "  errors=errors)\n"
     ]
    },
    {
     "name": "stdout",
     "output_type": "stream",
     "text": [
      "      Actual Predicted\n",
      "37735     EX        TD\n",
      "22263     TS        TS\n",
      "15479     EX        HU\n",
      "24979     TD        TD\n",
      "3487      EX        TS\n"
     ]
    },
    {
     "name": "stderr",
     "output_type": "stream",
     "text": [
      "c:\\python37\\lib\\site-packages\\pandas\\core\\frame.py:3940: SettingWithCopyWarning: \n",
      "A value is trying to be set on a copy of a slice from a DataFrame\n",
      "\n",
      "See the caveats in the documentation: http://pandas.pydata.org/pandas-docs/stable/indexing.html#indexing-view-versus-copy\n",
      "  errors=errors)\n"
     ]
    },
    {
     "name": "stdout",
     "output_type": "stream",
     "text": [
      "      Actual Predicted\n",
      "39478     EX        EX\n",
      "19472     TD        TD\n",
      "25228     TS        TS\n",
      "33039     TD        TD\n",
      "39989     TS        EX\n",
      "Random Forest Classifier 87.98493025150188\n",
      "Decision Tree Classifier 87.66928011404134\n"
     ]
    },
    {
     "name": "stderr",
     "output_type": "stream",
     "text": [
      "c:\\python37\\lib\\site-packages\\pandas\\core\\frame.py:3940: SettingWithCopyWarning: \n",
      "A value is trying to be set on a copy of a slice from a DataFrame\n",
      "\n",
      "See the caveats in the documentation: http://pandas.pydata.org/pandas-docs/stable/indexing.html#indexing-view-versus-copy\n",
      "  errors=errors)\n"
     ]
    },
    {
     "name": "stdout",
     "output_type": "stream",
     "text": [
      "       Actual  Predicted\n",
      "47074       2          2\n",
      "4771        2          2\n",
      "649         2          2\n",
      "41336       2          2\n",
      "24635       1          7\n"
     ]
    },
    {
     "name": "stderr",
     "output_type": "stream",
     "text": [
      "c:\\python37\\lib\\site-packages\\pandas\\core\\frame.py:3940: SettingWithCopyWarning: \n",
      "A value is trying to be set on a copy of a slice from a DataFrame\n",
      "\n",
      "See the caveats in the documentation: http://pandas.pydata.org/pandas-docs/stable/indexing.html#indexing-view-versus-copy\n",
      "  errors=errors)\n"
     ]
    },
    {
     "name": "stdout",
     "output_type": "stream",
     "text": [
      "       Actual  Predicted\n",
      "36624       6          6\n",
      "38635       6          6\n",
      "16855       7          7\n",
      "36187       6          6\n",
      "39523       6          6\n",
      "Random Forest Classifier with categorical data 88.01547703899807\n",
      "Decision Tree Classifier with categorical data 87.38417676407698\n"
     ]
    }
   ],
   "source": [
    "import numpy as np\n",
    "import pandas as pd\n",
    "import random\n",
    "import matplotlib.pyplot as plt\n",
    "import seaborn as sns\n",
    "from sklearn import linear_model as lm\n",
    "from sklearn import metrics as m\n",
    "from sklearn.model_selection import train_test_split\n",
    "from sklearn import tree\n",
    "from sklearn.ensemble import RandomForestClassifier\n",
    "\n",
    "def convert_to_dataframe(file):\n",
    "    return pd.read_csv(file)\n",
    "\n",
    "def get_features(data):\n",
    "    random.seed()\n",
    "    pred = data[:]\n",
    "    pred.drop(['Status'],axis=1,inplace=True)\n",
    "    pred.drop(['Event'],axis=1,inplace=True)    \n",
    "    pred.drop(['Latitude'],axis=1,inplace=True)\n",
    "    pred.drop(['Longitude'],axis=1,inplace=True)\n",
    "    pred.drop(['ID'],axis=1,inplace=True)\n",
    "    pred.drop(['Name'],axis=1,inplace=True)\n",
    "    pred.drop(['Time'],axis=1,inplace=True)\n",
    "    pred.drop(['Date'],axis=1,inplace=True)\n",
    "    return pred.columns\n",
    "\n",
    "def randomforest(data):\n",
    "    x=data[get_features(data)]\n",
    "    y=data['Status']\n",
    "    x_train, x_test,y_train, y_test = train_test_split(x,y, test_size=0.2)\n",
    "    rfc = RandomForestClassifier(n_estimators=80)\n",
    "    rfc.fit(x_train,y_train)\n",
    "    hurricane_prediction = rfc.predict(x_test)\n",
    "    # Make predictions using the testing set\n",
    "    final = pd.DataFrame({'Actual': y_test, 'Predicted': hurricane_prediction})\n",
    "    print(final.head(5))\n",
    "    return m.accuracy_score(hurricane_prediction,y_test)*100\n",
    "      \n",
    "def decisiontree(data):\n",
    "    x=data[get_features(data)]\n",
    "    y=data['Status']\n",
    "    x_train, x_test,y_train, y_test = train_test_split(x,y, test_size=0.2)\n",
    "    dtc = tree.DecisionTreeClassifier()\n",
    "    dtc.fit(x_train,y_train)\n",
    "    y_predict = dtc.predict(x_test)\n",
    "    # Make predictions using the testing set\n",
    "    final = pd.DataFrame({'Actual': y_test, 'Predicted': y_predict})\n",
    "    print(final.head(5))\n",
    "    return m.accuracy_score(y_predict,y_test)*100\n",
    "\n",
    "if __name__=='__main__':\n",
    "    file1 = convert_to_dataframe('pacific.csv')\n",
    "    resf = randomforest(file1)\n",
    "    res= decisiontree(file1)\n",
    "    print ( \"Random Forest Classifier\",resf)\n",
    "    print ( \"Decision Tree Classifier\",res)\n",
    "    file1.Status = pd.Categorical(file1.Status,ordered=True)\n",
    "    file1.Status = file1.Status.cat.codes\n",
    "    resf = randomforest(file1)\n",
    "    res= decisiontree(file1)\n",
    "    print ( \"Random Forest Classifier with categorical data\",resf)\n",
    "    print ( \"Decision Tree Classifier with categorical data\",res)\n",
    "    file2 = convert_to_dataframe('atlantic.csv')\n",
    "    resf = randomforest(file2)\n",
    "    res = decisiontree(file2)\n",
    "    print ( \"Random Forest Classifier\",resf)\n",
    "    print ( \"Decision Tree Classifier\",res)\n",
    "    # Pre-Processing\n",
    "    file2 = convert_to_dataframe('atlantic.csv')\n",
    "    file2.Status = pd.Categorical(file2.Status,ordered=True)\n",
    "    file2.Status = file2.Status.cat.codes\n",
    "    resf = randomforest(file2)\n",
    "    res= decisiontree(file2)\n",
    "    print ( \"Random Forest Classifier with categorical data\",resf)\n",
    "    print ( \"Decision Tree Classifier with categorical data\",res)   "
   ]
  }
 ],
 "metadata": {
  "kernelspec": {
   "display_name": "Python 3",
   "language": "python",
   "name": "python3"
  },
  "language_info": {
   "codemirror_mode": {
    "name": "ipython",
    "version": 3
   },
   "file_extension": ".py",
   "mimetype": "text/x-python",
   "name": "python",
   "nbconvert_exporter": "python",
   "pygments_lexer": "ipython3",
   "version": "3.7.2"
  }
 },
 "nbformat": 4,
 "nbformat_minor": 2
}
