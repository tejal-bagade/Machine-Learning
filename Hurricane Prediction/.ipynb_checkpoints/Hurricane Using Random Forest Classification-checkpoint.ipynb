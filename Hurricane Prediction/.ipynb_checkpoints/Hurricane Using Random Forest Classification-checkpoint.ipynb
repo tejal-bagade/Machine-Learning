{
 "cells": [
  {
   "cell_type": "code",
   "execution_count": 1,
   "metadata": {},
   "outputs": [
    {
     "name": "stderr",
     "output_type": "stream",
     "text": [
      "c:\\python37\\lib\\site-packages\\pandas\\core\\frame.py:3940: SettingWithCopyWarning: \n",
      "A value is trying to be set on a copy of a slice from a DataFrame\n",
      "\n",
      "See the caveats in the documentation: http://pandas.pydata.org/pandas-docs/stable/indexing.html#indexing-view-versus-copy\n",
      "  errors=errors)\n"
     ]
    },
    {
     "name": "stdout",
     "output_type": "stream",
     "text": [
      "      Actual Predicted\n",
      "7147      TS        TS\n",
      "23540     TD        TD\n",
      "14306     TS        TS\n",
      "6161      TS        TS\n",
      "9818      TS        TS\n"
     ]
    },
    {
     "name": "stderr",
     "output_type": "stream",
     "text": [
      "c:\\python37\\lib\\site-packages\\pandas\\core\\frame.py:3940: SettingWithCopyWarning: \n",
      "A value is trying to be set on a copy of a slice from a DataFrame\n",
      "\n",
      "See the caveats in the documentation: http://pandas.pydata.org/pandas-docs/stable/indexing.html#indexing-view-versus-copy\n",
      "  errors=errors)\n"
     ]
    },
    {
     "name": "stdout",
     "output_type": "stream",
     "text": [
      "      Actual Predicted\n",
      "4308      TS        TS\n",
      "4124      TS        TS\n",
      "14532     TD        TD\n",
      "1377      TD        TD\n",
      "23067     TD        TD\n",
      "Random Forest Classifier 95.60061208875287\n",
      "Decision Tree Classifier 95.50497322111707\n"
     ]
    },
    {
     "name": "stderr",
     "output_type": "stream",
     "text": [
      "c:\\python37\\lib\\site-packages\\pandas\\core\\frame.py:3940: SettingWithCopyWarning: \n",
      "A value is trying to be set on a copy of a slice from a DataFrame\n",
      "\n",
      "See the caveats in the documentation: http://pandas.pydata.org/pandas-docs/stable/indexing.html#indexing-view-versus-copy\n",
      "  errors=errors)\n"
     ]
    },
    {
     "name": "stdout",
     "output_type": "stream",
     "text": [
      "       Actual  Predicted\n",
      "7584       10         10\n",
      "15876      10         10\n",
      "17176      11         11\n",
      "21972       5          5\n",
      "22783      11         11\n"
     ]
    },
    {
     "name": "stderr",
     "output_type": "stream",
     "text": [
      "c:\\python37\\lib\\site-packages\\pandas\\core\\frame.py:3940: SettingWithCopyWarning: \n",
      "A value is trying to be set on a copy of a slice from a DataFrame\n",
      "\n",
      "See the caveats in the documentation: http://pandas.pydata.org/pandas-docs/stable/indexing.html#indexing-view-versus-copy\n",
      "  errors=errors)\n"
     ]
    },
    {
     "name": "stdout",
     "output_type": "stream",
     "text": [
      "       Actual  Predicted\n",
      "9995        3          3\n",
      "12921      11         11\n",
      "22939       3          3\n",
      "21008      10         10\n",
      "1200        3          3\n",
      "Random Forest Classifier with categorical data 95.86840091813313\n",
      "Decision Tree Classifier with categorical data 95.90665646518745\n"
     ]
    },
    {
     "name": "stderr",
     "output_type": "stream",
     "text": [
      "c:\\python37\\lib\\site-packages\\pandas\\core\\frame.py:3940: SettingWithCopyWarning: \n",
      "A value is trying to be set on a copy of a slice from a DataFrame\n",
      "\n",
      "See the caveats in the documentation: http://pandas.pydata.org/pandas-docs/stable/indexing.html#indexing-view-versus-copy\n",
      "  errors=errors)\n"
     ]
    },
    {
     "name": "stdout",
     "output_type": "stream",
     "text": [
      "      Actual Predicted\n",
      "30019     TS        TS\n",
      "10999     TS        TS\n",
      "18666     HU        HU\n",
      "15371     EX        HU\n",
      "45471     HU        HU\n"
     ]
    },
    {
     "name": "stderr",
     "output_type": "stream",
     "text": [
      "c:\\python37\\lib\\site-packages\\pandas\\core\\frame.py:3940: SettingWithCopyWarning: \n",
      "A value is trying to be set on a copy of a slice from a DataFrame\n",
      "\n",
      "See the caveats in the documentation: http://pandas.pydata.org/pandas-docs/stable/indexing.html#indexing-view-versus-copy\n",
      "  errors=errors)\n"
     ]
    },
    {
     "name": "stdout",
     "output_type": "stream",
     "text": [
      "      Actual Predicted\n",
      "17075     EX        TD\n",
      "42020     TD        TD\n",
      "4483      HU        HU\n",
      "34559     TS        TS\n",
      "41494     HU        HU\n",
      "Random Forest Classifier 88.07657061399043\n",
      "Decision Tree Classifier 87.98493025150188\n"
     ]
    },
    {
     "name": "stderr",
     "output_type": "stream",
     "text": [
      "c:\\python37\\lib\\site-packages\\pandas\\core\\frame.py:3940: SettingWithCopyWarning: \n",
      "A value is trying to be set on a copy of a slice from a DataFrame\n",
      "\n",
      "See the caveats in the documentation: http://pandas.pydata.org/pandas-docs/stable/indexing.html#indexing-view-versus-copy\n",
      "  errors=errors)\n"
     ]
    },
    {
     "name": "stdout",
     "output_type": "stream",
     "text": [
      "       Actual  Predicted\n",
      "38442       6          6\n",
      "14962       6          6\n",
      "22277       7          7\n",
      "14305       6          6\n",
      "6767        2          2\n"
     ]
    },
    {
     "name": "stderr",
     "output_type": "stream",
     "text": [
      "c:\\python37\\lib\\site-packages\\pandas\\core\\frame.py:3940: SettingWithCopyWarning: \n",
      "A value is trying to be set on a copy of a slice from a DataFrame\n",
      "\n",
      "See the caveats in the documentation: http://pandas.pydata.org/pandas-docs/stable/indexing.html#indexing-view-versus-copy\n",
      "  errors=errors)\n"
     ]
    },
    {
     "name": "stdout",
     "output_type": "stream",
     "text": [
      "       Actual  Predicted\n",
      "7383        2          2\n",
      "11800       7          7\n",
      "21918       2          2\n",
      "3134        7          7\n",
      "7319        2          2\n",
      "Random Forest Classifier with categorical data 88.58568373892679\n",
      "Decision Tree Classifier with categorical data 87.27217187659097\n"
     ]
    }
   ],
   "source": [
    "import numpy as np\n",
    "import pandas as pd\n",
    "import random\n",
    "import matplotlib.pyplot as plt\n",
    "import seaborn as sns\n",
    "from sklearn import linear_model as lm\n",
    "from sklearn import metrics as m\n",
    "from sklearn.model_selection import train_test_split\n",
    "from sklearn import tree\n",
    "from sklearn.ensemble import RandomForestClassifier\n",
    "\n",
    "def convert_to_dataframe(file):\n",
    "    return pd.read_csv(file)\n",
    "\n",
    "def get_features(data):\n",
    "    random.seed()\n",
    "    pred = data[:]\n",
    "    pred.drop(['Status'],axis=1,inplace=True)\n",
    "    pred.drop(['Event'],axis=1,inplace=True)    \n",
    "    pred.drop(['Latitude'],axis=1,inplace=True)\n",
    "    pred.drop(['Longitude'],axis=1,inplace=True)\n",
    "    pred.drop(['ID'],axis=1,inplace=True)\n",
    "    pred.drop(['Name'],axis=1,inplace=True)\n",
    "    pred.drop(['Time'],axis=1,inplace=True)\n",
    "    pred.drop(['Date'],axis=1,inplace=True)\n",
    "    return pred.columns\n",
    "\n",
    "def randomforest(data):\n",
    "    x=data[get_features(data)]\n",
    "    y=data['Status']\n",
    "    x_train, x_test,y_train, y_test = train_test_split(x,y, test_size=0.2)\n",
    "    rfc = RandomForestClassifier(n_estimators=80)\n",
    "    rfc.fit(x_train,y_train)\n",
    "    hurricane_prediction = rfc.predict(x_test)\n",
    "    # Make predictions using the testing set\n",
    "    final = pd.DataFrame({'Actual': y_test, 'Predicted': hurricane_prediction})\n",
    "    print(final.head(5))\n",
    "    return m.accuracy_score(hurricane_prediction,y_test)*100\n",
    "      \n",
    "def decisiontree(data):\n",
    "    x=data[get_features(data)]\n",
    "    y=data['Status']\n",
    "    x_train, x_test,y_train, y_test = train_test_split(x,y, test_size=0.2)\n",
    "    dtc = tree.DecisionTreeClassifier()\n",
    "    dtc.fit(x_train,y_train)\n",
    "    y_predict = dtc.predict(x_test)\n",
    "    # Make predictions using the testing set\n",
    "    final = pd.DataFrame({'Actual': y_test, 'Predicted': y_predict})\n",
    "    print(final.head(5))\n",
    "    return m.accuracy_score(y_predict,y_test)*100\n",
    "\n",
    "if __name__=='__main__':\n",
    "    file1 = convert_to_dataframe('pacific.csv')\n",
    "    resf = randomforest(file1)\n",
    "    res= decisiontree(file1)\n",
    "    print ( \"Random Forest Classifier\",resf)\n",
    "    print ( \"Decision Tree Classifier\",res)\n",
    "    file1.Status = pd.Categorical(file1.Status,ordered=True)\n",
    "    file1.Status = file1.Status.cat.codes\n",
    "    resf = randomforest(file1)\n",
    "    res= decisiontree(file1)\n",
    "    print ( \"Random Forest Classifier with categorical data\",resf)\n",
    "    print ( \"Decision Tree Classifier with categorical data\",res)\n",
    "    file2 = convert_to_dataframe('atlantic.csv')\n",
    "    resf = randomforest(file2)\n",
    "    res = decisiontree(file2)\n",
    "    print ( \"Random Forest Classifier\",resf)\n",
    "    print ( \"Decision Tree Classifier\",res)\n",
    "    # Pre-Processing\n",
    "    file2 = convert_to_dataframe('atlantic.csv')\n",
    "    file2.Status = pd.Categorical(file2.Status,ordered=True)\n",
    "    file2.Status = file2.Status.cat.codes\n",
    "    resf = randomforest(file2)\n",
    "    res= decisiontree(file2)\n",
    "    print ( \"Random Forest Classifier with categorical data\",resf)\n",
    "    print ( \"Decision Tree Classifier with categorical data\",res)   "
   ]
  }
 ],
 "metadata": {
  "kernelspec": {
   "display_name": "Python 3",
   "language": "python",
   "name": "python3"
  },
  "language_info": {
   "codemirror_mode": {
    "name": "ipython",
    "version": 3
   },
   "file_extension": ".py",
   "mimetype": "text/x-python",
   "name": "python",
   "nbconvert_exporter": "python",
   "pygments_lexer": "ipython3",
   "version": "3.7.2"
  }
 },
 "nbformat": 4,
 "nbformat_minor": 2
}
